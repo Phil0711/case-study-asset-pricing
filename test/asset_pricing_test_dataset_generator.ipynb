{
 "cells": [
  {
   "cell_type": "code",
   "execution_count": 13,
   "metadata": {},
   "outputs": [],
   "source": [
    "import pandas as pd\n",
    "\"\"\"\n",
    "Echte Datei:\n",
    "permno,date,tcap,return\n",
    "10001,2001-01-31,24667.75,0.0128205133100665\n",
    "\"\"\"\n",
    "start_date = pd.to_datetime('01-01-2019')\n",
    "with open(\"data.csv\", \"w\") as file:\n",
    "    file.write(\"permno,date,tcap,return\" + \"\\n\")\n",
    "    for date in pd.date_range(start_date, periods=365):\n",
    "        for i in range(1, 11):\n",
    "            file.write(str(i) + \",\" + date.strftime(\"%Y-%m-%d\") + \",\" + \"1\" + \",\" + str(i/10) + \"\\n\")"
   ]
  }
 ],
 "metadata": {
  "kernelspec": {
   "display_name": "Python 3",
   "language": "python",
   "name": "python3"
  },
  "language_info": {
   "codemirror_mode": {
    "name": "ipython",
    "version": 3
   },
   "file_extension": ".py",
   "mimetype": "text/x-python",
   "name": "python",
   "nbconvert_exporter": "python",
   "pygments_lexer": "ipython3",
   "version": "3.7.7"
  }
 },
 "nbformat": 4,
 "nbformat_minor": 4
}
